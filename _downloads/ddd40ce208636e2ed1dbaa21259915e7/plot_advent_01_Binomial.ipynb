{
  "cells": [
    {
      "cell_type": "markdown",
      "metadata": {},
      "source": [
        "\n# Day 1 : Binomial\n"
      ]
    },
    {
      "cell_type": "code",
      "execution_count": null,
      "metadata": {
        "collapsed": false
      },
      "outputs": [],
      "source": [
        "# Author: Dialid Santiago <d.santiago@outlook.com>\n# License: MIT\n# Description: Advent Calendar Day 1\n\nimport matplotlib.pyplot as plt\nfrom matplotlib.gridspec import GridSpec\n\nfrom scipy.stats import binom\nimport numpy as np\n\n# import matplotlib as mpl\n# mpl.rcParams.update(mpl.rcParamsDefault)\n#\nplt.style.use(\n    \"https://raw.githubusercontent.com/quantgirluk/matplotlib-stylesheets/main/quant-pastel-light.mplstyle\")\n\nn = 20\np = 0.3\nrv = binom(n=n, p=p)\nx = np.arange(0, n + 1, 1)\ntitle = f\"\\n Binomial Distribution \\n $X \\sim Bin(n={n}, p={p}$)\"\n# title = \"Binomial\"\nfig = plt.figure(figsize=(10, 5), dpi=150)\ngs = GridSpec(1, 4, wspace=0.5)\nax1 = fig.add_subplot(gs[:2])\nax2 = fig.add_subplot(gs[2:])\n\nax1.vlines(x, 0, rv.pmf(x), colors='grey', linestyles='--', lw=1)\nax1.plot(x, rv.pmf(x), marker='o', linestyle='', color='deepskyblue')\n\nplt.plot(x, rv.cdf(x), drawstyle='steps-post',\n         color='grey', lw=1, linestyle='--')\nax2.plot(x, rv.cdf(x), color='hotpink', marker='o', linestyle='')\n\nax1.set_title('Probability Mass Function', y=-0.18)\nax2.set_title('Cumulative Distribution Function', y=-0.18)\n\nfig.suptitle(title)\ngs.tight_layout(fig)\n\n# fig.savefig('01_Binomial')\nplt.show()"
      ]
    }
  ],
  "metadata": {
    "kernelspec": {
      "display_name": "Python 3",
      "language": "python",
      "name": "python3"
    },
    "language_info": {
      "codemirror_mode": {
        "name": "ipython",
        "version": 3
      },
      "file_extension": ".py",
      "mimetype": "text/x-python",
      "name": "python",
      "nbconvert_exporter": "python",
      "pygments_lexer": "ipython3",
      "version": "3.12.3"
    }
  },
  "nbformat": 4,
  "nbformat_minor": 0
}